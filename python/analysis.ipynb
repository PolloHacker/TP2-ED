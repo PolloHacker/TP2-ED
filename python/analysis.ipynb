{
 "cells": [
  {
   "cell_type": "markdown",
   "id": "dca32a31",
   "metadata": {},
   "source": [
    "# Armazéns Hanoi Simulation: Experimental Results Analysis\n",
    "\n",
    "This notebook loads, aggregates, and visualizes the results of all simulation experiments. It provides code and visualizations for interpreting the computational and operational performance of the system across all experimental scenarios."
   ]
  },
  {
   "cell_type": "code",
   "execution_count": null,
   "id": "85855abd",
   "metadata": {},
   "outputs": [],
   "source": [
    "# Import Required Libraries\n",
    "import pandas as pd\n",
    "import numpy as np\n",
    "import matplotlib.pyplot as plt\n",
    "import seaborn as sns\n",
    "import glob\n",
    "import json\n",
    "import os\n",
    "\n",
    "# Set up matplotlib for inline plotting\n",
    "%matplotlib inline"
   ]
  },
  {
   "cell_type": "markdown",
   "id": "b0bd5f79",
   "metadata": {},
   "source": [
    "## Load and Aggregate Experimental Results\n",
    "\n",
    "This section loads all `metrics.json` files from the results directory, aggregates them into a single DataFrame, and extracts experiment parameters for analysis."
   ]
  },
  {
   "cell_type": "code",
   "execution_count": null,
   "id": "6ca7311c",
   "metadata": {},
   "outputs": [],
   "source": [
    "# Load all metrics.json files and aggregate results\n",
    "results_dir = os.path.join('..', 'results')\n",
    "metrics_files = glob.glob(os.path.join(results_dir, '*', 'metrics.json'))\n",
    "meta_files = [f.replace('metrics.json', os.path.basename(f).replace('metrics.json', 'in.txt.meta.json')) for f in metrics_files]\n",
    "\n",
    "records = []\n",
    "for mfile, metafile in zip(metrics_files, meta_files):\n",
    "    with open(mfile) as f:\n",
    "        metrics = json.load(f)\n",
    "    params = {}\n",
    "    if os.path.exists(metafile):\n",
    "        with open(metafile) as mf:\n",
    "            meta = json.load(mf)\n",
    "            params = meta.get('params', {})\n",
    "    record = {**params, **metrics, 'metrics_file': mfile}\n",
    "    records.append(record)\n",
    "\n",
    "df = pd.DataFrame(records)\n",
    "display(df.head())\n",
    "print(f\"Loaded {len(df)} experiment results.\")"
   ]
  },
  {
   "cell_type": "markdown",
   "id": "6f1b866c",
   "metadata": {},
   "source": [
    "## Visualize Key Metrics\n",
    "\n",
    "This section provides visualizations for the main metrics across all experiments:\n",
    "- Execution time, memory usage, heap/stack operations\n",
    "- Package delivery times (mean, median, 95th percentile, max)\n",
    "- Re-storage events, warehouse section depth, transport utilization\n",
    "- Line plots, histograms, and heatmaps as described in the experimental plan"
   ]
  },
  {
   "cell_type": "code",
   "execution_count": null,
   "id": "ad8593f5",
   "metadata": {},
   "outputs": [],
   "source": [
    "# Example: Execution Time vs. Number of Warehouses (Experiment A)\n",
    "expA = df[df['metrics_file'].str.contains('expA_')]\n",
    "plt.figure(figsize=(8,5))\n",
    "plt.plot(expA['numeroarmazens'], expA['execution_time'], marker='o')\n",
    "plt.xlabel('Number of Warehouses')\n",
    "plt.ylabel('Total Execution Time (s)')\n",
    "plt.title('Experiment A: Execution Time vs. Number of Warehouses')\n",
    "plt.grid(True)\n",
    "plt.show()"
   ]
  },
  {
   "cell_type": "code",
   "execution_count": null,
   "id": "fdbe858f",
   "metadata": {},
   "outputs": [],
   "source": [
    "# Example: Histogram of Package Delivery Times (select an experiment)\n",
    "example = df.iloc[0]  # Change index to select different experiment\n",
    "if 'delivery_time_stats' in example and isinstance(example['delivery_time_stats'], dict):\n",
    "    stats = example['delivery_time_stats']\n",
    "    # If you have raw delivery times, plot histogram\n",
    "    # Otherwise, plot summary stats\n",
    "    plt.figure(figsize=(6,4))\n",
    "    plt.bar(['mean', 'median', 'p95', 'max'], [stats.get(k, 0) for k in ['mean','median','p95','max']])\n",
    "    plt.title('Package Delivery Time Stats')\n",
    "    plt.ylabel('Time')\n",
    "    plt.show()\n",
    "else:\n",
    "    print('No delivery time stats available in this result.')"
   ]
  },
  {
   "cell_type": "code",
   "execution_count": null,
   "id": "c1b63fb3",
   "metadata": {},
   "outputs": [],
   "source": [
    "# Example: Heatmap for Experiment C (capacity vs. interval, color = re-storage events)\n",
    "expC = df[df['metrics_file'].str.contains('expC_')]\n",
    "heatmap_data = expC.pivot_table(index='capacidadetransporte', columns='intervalotransportes', values='re_storage_events', aggfunc='mean')\n",
    "plt.figure(figsize=(8,6))\n",
    "sns.heatmap(heatmap_data, annot=True, fmt='.0f', cmap='YlOrRd')\n",
    "plt.title('Experiment C: Re-storage Events Heatmap')\n",
    "plt.xlabel('Transport Interval')\n",
    "plt.ylabel('Transport Capacity')\n",
    "plt.show()"
   ]
  },
  {
   "cell_type": "markdown",
   "id": "5fe0c198",
   "metadata": {},
   "source": [
    "## Interpretation and Summary of Findings\n",
    "\n",
    "Use the visualizations above to interpret the results for each experiment:\n",
    "- Identify trends, bottlenecks, and inflection points\n",
    "- Relate observed behaviors to the underlying data structures and algorithms\n",
    "- Summarize key findings and recommendations for scaling the Armazéns Hanoi system\n",
    "\n",
    "*Fill in your analysis and conclusions below.*"
   ]
  }
 ],
 "metadata": {
  "language_info": {
   "name": "python"
  }
 },
 "nbformat": 4,
 "nbformat_minor": 5
}
